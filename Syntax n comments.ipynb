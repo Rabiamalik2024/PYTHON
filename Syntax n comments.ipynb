{
 "cells": [
  {
   "cell_type": "markdown",
   "id": "881e3f15-645e-4887-845d-cb111abe8194",
   "metadata": {},
   "source": [
    "# Print Hello World"
   ]
  },
  {
   "cell_type": "code",
   "execution_count": 1,
   "id": "af8751b8-2158-4cda-815e-82ee208da931",
   "metadata": {},
   "outputs": [
    {
     "name": "stdout",
     "output_type": "stream",
     "text": [
      "hello world\n"
     ]
    }
   ],
   "source": [
    "print(\"hello world\")"
   ]
  },
  {
   "cell_type": "markdown",
   "id": "77fb10eb-ddba-4996-b04a-1b51eff44ee0",
   "metadata": {},
   "source": [
    "# Python Indentation\n",
    "Indentation refers to the spaces at the beginning of a code line.Python uses indentation to indicate a block of code."
   ]
  },
  {
   "cell_type": "code",
   "execution_count": 2,
   "id": "39af585b-b4a8-4f5d-8a27-783239588f86",
   "metadata": {},
   "outputs": [
    {
     "name": "stdout",
     "output_type": "stream",
     "text": [
      "Four is greater than 2\n"
     ]
    }
   ],
   "source": [
    "if 4>2:\n",
    "    print(\"Four is greater than 2\")"
   ]
  },
  {
   "cell_type": "code",
   "execution_count": 3,
   "id": "26fb964e-c341-4903-9ec6-1149221b6ea7",
   "metadata": {},
   "outputs": [
    {
     "ename": "SyntaxError",
     "evalue": "expected 'else' after 'if' expression (1375346947.py, line 1)",
     "output_type": "error",
     "traceback": [
      "\u001b[1;36m  Cell \u001b[1;32mIn[3], line 1\u001b[1;36m\u001b[0m\n\u001b[1;33m    Python will give you an error if you skip the indentation\u001b[0m\n\u001b[1;37m                            ^\u001b[0m\n\u001b[1;31mSyntaxError\u001b[0m\u001b[1;31m:\u001b[0m expected 'else' after 'if' expression\n"
     ]
    }
   ],
   "source": [
    "Python will give you an error if you skip the indentation\n",
    "if 4>2:\n",
    "print(\"Four is greater than 2\")"
   ]
  },
  {
   "cell_type": "markdown",
   "id": "0da31298-106a-4d0c-97cc-7247a15726c0",
   "metadata": {},
   "source": [
    "# Comments\n",
    "Comments can be used to explain Python code.\n",
    "Comments can be used to make the code more readable.\n",
    "Comments can be used to prevent execution when testing code.\n",
    "Comments starts with a #, and Python will ignore them:"
   ]
  },
  {
   "cell_type": "code",
   "execution_count": 7,
   "id": "9a5fd2fc-2ac6-4437-a01e-f254e7386490",
   "metadata": {},
   "outputs": [
    {
     "name": "stdout",
     "output_type": "stream",
     "text": [
      "Hello, World!\n"
     ]
    }
   ],
   "source": [
    "#This is a comment.\n",
    "print(\"Hello, World!\")"
   ]
  },
  {
   "cell_type": "markdown",
   "id": "6f794269-e665-4032-951b-1d0c8f6a5094",
   "metadata": {},
   "source": [
    "Comments can be placed at the end of a line, and Python will ignore the rest of the line"
   ]
  },
  {
   "cell_type": "code",
   "execution_count": 8,
   "id": "a72f5007-9967-477c-b076-17576e7128c9",
   "metadata": {},
   "outputs": [
    {
     "name": "stdout",
     "output_type": "stream",
     "text": [
      "Hello, World!\n"
     ]
    }
   ],
   "source": [
    "print(\"Hello, World!\") #This is a comment"
   ]
  },
  {
   "cell_type": "markdown",
   "id": "d2b84f5a-06d5-4799-bcf7-b89cb2d04c63",
   "metadata": {},
   "source": [
    " A comment does not have to be text that explains the code, it can also be used to prevent Python from executing code:"
   ]
  },
  {
   "cell_type": "code",
   "execution_count": 10,
   "id": "ad1c7c3c-2ac0-4d60-b6b6-b6db8403ece3",
   "metadata": {},
   "outputs": [
    {
     "name": "stdout",
     "output_type": "stream",
     "text": [
      "Cheers, Malik!\n"
     ]
    }
   ],
   "source": [
    "#print(\"Hello, World!\")\n",
    "print(\"Cheers, Malik!\") "
   ]
  },
  {
   "cell_type": "markdown",
   "id": "4a6562ce-8d32-48de-b95c-446395fe31dc",
   "metadata": {},
   "source": [
    "# Multiline Comments\n",
    "\n",
    "Python does not really have a syntax for multiline comments.\n",
    "\n",
    "To add a multiline comment you could insert a # for each line"
   ]
  },
  {
   "cell_type": "code",
   "execution_count": 11,
   "id": "dd121d1c-739d-4621-b15c-417555f7c884",
   "metadata": {},
   "outputs": [
    {
     "name": "stdout",
     "output_type": "stream",
     "text": [
      "Hello, World!\n"
     ]
    }
   ],
   "source": [
    "#This is a comment\n",
    "#written in\n",
    "#more than just one line\n",
    "print(\"Hello, World!\")"
   ]
  },
  {
   "cell_type": "markdown",
   "id": "aa5e110c-c061-47df-9fbf-6e46f3d452e2",
   "metadata": {},
   "source": [
    "Python will ignore string literals that are not assigned to a variable, you can add a multiline string (triple quotes) in your code, and place your comment inside it"
   ]
  },
  {
   "cell_type": "code",
   "execution_count": 12,
   "id": "fbafc6d0-86ba-4d58-8463-4d1d31ce05bd",
   "metadata": {},
   "outputs": [
    {
     "name": "stdout",
     "output_type": "stream",
     "text": [
      "Hello, World!\n"
     ]
    }
   ],
   "source": [
    "\"\"\"\n",
    "This is a comment\n",
    "written in\n",
    "more than just one line\n",
    "\"\"\"\n",
    "print(\"Hello, World!\") "
   ]
  },
  {
   "cell_type": "code",
   "execution_count": null,
   "id": "a46e144b-6551-4825-a3e5-3943cad69222",
   "metadata": {},
   "outputs": [],
   "source": []
  }
 ],
 "metadata": {
  "kernelspec": {
   "display_name": "Python 3 (ipykernel)",
   "language": "python",
   "name": "python3"
  },
  "language_info": {
   "codemirror_mode": {
    "name": "ipython",
    "version": 3
   },
   "file_extension": ".py",
   "mimetype": "text/x-python",
   "name": "python",
   "nbconvert_exporter": "python",
   "pygments_lexer": "ipython3",
   "version": "3.12.4"
  }
 },
 "nbformat": 4,
 "nbformat_minor": 5
}
