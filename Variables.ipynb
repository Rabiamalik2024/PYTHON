{
 "cells": [
  {
   "cell_type": "markdown",
   "id": "f409dc7f-94d8-486c-89e8-136d47e21099",
   "metadata": {},
   "source": [
    "# Variables\n",
    "\n",
    "Variables are containers for storing data values."
   ]
  },
  {
   "cell_type": "markdown",
   "id": "78b035a7-f9d6-4411-ba0c-363b2d931cc4",
   "metadata": {},
   "source": [
    "# Creating Variables\n",
    "\n",
    "Python has no command for declaring a variable.\n",
    "\n",
    "A variable is created the moment you first assign a value to it."
   ]
  },
  {
   "cell_type": "code",
   "execution_count": 1,
   "id": "1c44fca6-3605-431e-94b3-81285aef5d95",
   "metadata": {},
   "outputs": [
    {
     "name": "stdout",
     "output_type": "stream",
     "text": [
      "5\n",
      "Arham\n"
     ]
    }
   ],
   "source": [
    "x = 5\n",
    "y = \"Arham\"\n",
    "print(x)\n",
    "print(y)"
   ]
  },
  {
   "cell_type": "markdown",
   "id": "1a27f868-793d-4c56-b912-02aee95f4a39",
   "metadata": {},
   "source": [
    "Variables do not need to be declared with any particular type, and can even change type after they have been set."
   ]
  },
  {
   "cell_type": "code",
   "execution_count": 2,
   "id": "5d7506f4-e130-4f99-88c3-0c23f6740a81",
   "metadata": {},
   "outputs": [
    {
     "name": "stdout",
     "output_type": "stream",
     "text": [
      "Ibrahim\n"
     ]
    }
   ],
   "source": [
    "x = 4       # x is of type int\n",
    "x = \"Ibrahim\" # x is now of type str\n",
    "print(x)"
   ]
  },
  {
   "cell_type": "markdown",
   "id": "9665f26c-7800-47a3-b322-e61e0fd888c1",
   "metadata": {},
   "source": [
    "# Casting\n",
    "\n",
    "If you want to specify the data type of a variable, this can be done with casting."
   ]
  },
  {
   "cell_type": "code",
   "execution_count": 4,
   "id": "9576e419-bc25-4c62-95d8-61de4c010f65",
   "metadata": {},
   "outputs": [
    {
     "name": "stdout",
     "output_type": "stream",
     "text": [
      "6\n",
      "5\n",
      "4.0\n"
     ]
    }
   ],
   "source": [
    "x=str(6)\n",
    "y=int(5)\n",
    "z=float(4)\n",
    "print(x)\n",
    "print(y)\n",
    "print(z)"
   ]
  },
  {
   "cell_type": "markdown",
   "id": "6368f016-c117-4d2a-8f2c-ceb962805a62",
   "metadata": {},
   "source": [
    "# Get the Type\n",
    "\n",
    "You can get the data type of a variable with the type() function."
   ]
  },
  {
   "cell_type": "code",
   "execution_count": 5,
   "id": "173da593-5b4f-49ad-a61e-56fdee151c17",
   "metadata": {},
   "outputs": [
    {
     "name": "stdout",
     "output_type": "stream",
     "text": [
      "<class 'int'>\n",
      "<class 'float'>\n",
      "<class 'str'>\n"
     ]
    }
   ],
   "source": [
    "a=7\n",
    "b=6.8\n",
    "c=\"ahmed\"\n",
    "d=True\n",
    "print(type(a))\n",
    "print(type(b))\n",
    "print(type(c))"
   ]
  },
  {
   "cell_type": "markdown",
   "id": "67582127-d3c7-4dff-b4cc-1edc2407656f",
   "metadata": {},
   "source": [
    "# Single or Double Quotes?\n",
    "\n",
    "String variables can be declared either by using single or double quotes"
   ]
  },
  {
   "cell_type": "code",
   "execution_count": 6,
   "id": "0cc34dcc-2de9-4b6a-b0b8-d6f48cdf6f48",
   "metadata": {},
   "outputs": [
    {
     "name": "stdout",
     "output_type": "stream",
     "text": [
      "Malik\n",
      "Malik\n"
     ]
    }
   ],
   "source": [
    "x = \"Malik\"\n",
    "print(x)\n",
    "#double quotes are the same as single quotes:\n",
    "x = 'Malik'\n",
    "print(x)"
   ]
  },
  {
   "cell_type": "markdown",
   "id": "2ea5f457-a6da-48e4-99d1-963011149f3e",
   "metadata": {},
   "source": [
    "# Case-Sensitive\n",
    "\n",
    "Variable names are case-sensitive."
   ]
  },
  {
   "cell_type": "code",
   "execution_count": 7,
   "id": "7a518bd8-1283-4ef2-bd79-55df3359f127",
   "metadata": {},
   "outputs": [
    {
     "name": "stdout",
     "output_type": "stream",
     "text": [
      "10\n",
      "Ahmed\n"
     ]
    }
   ],
   "source": [
    "a = 10\n",
    "A = \"Ahmed\"\n",
    "\n",
    "print(a)\n",
    "print(A)"
   ]
  },
  {
   "cell_type": "markdown",
   "id": "a160b2ea-f054-497c-bc95-7a7a0af337a6",
   "metadata": {},
   "source": [
    "# Variable Names\n",
    "A variable can have a short name (like x and y) or a more descriptive name (age, carname, total_volume). Rules for Python variables:\n",
    "\n",
    "    A variable name must start with a letter or the underscore character\n",
    "    A variable name cannot start with a number\n",
    "    A variable name can only contain alpha-numeric characters and underscores (A-z, 0-9, and _ )\n",
    "    Variable names are case-sensitive (age, Age and AGE are three different variables)\n",
    "    A variable name cannot be any of the Python keywords.\n"
   ]
  },
  {
   "cell_type": "code",
   "execution_count": 8,
   "id": "ed8269e8-0f28-49c0-83a2-4a591a0ce766",
   "metadata": {},
   "outputs": [
    {
     "name": "stdout",
     "output_type": "stream",
     "text": [
      "Malik\n",
      "Malik\n",
      "Malik\n",
      "Malik\n",
      "Malik\n",
      "Malik\n"
     ]
    }
   ],
   "source": [
    "myvar = \"Malik\"\n",
    "my_var = \"Malik\"\n",
    "_my_var = \"Malik\"\n",
    "myVar = \"Malik\"\n",
    "MYVAR = \"Malik\"\n",
    "myvar2 = \"Malik\"\n",
    "\n",
    "\n",
    "print(myvar)\n",
    "print(my_var)\n",
    "print(_my_var)\n",
    "print(myVar)\n",
    "print(MYVAR)\n",
    "print(myvar2)"
   ]
  },
  {
   "cell_type": "markdown",
   "id": "13ee8958-7c66-4cbf-bd33-e3f37825112b",
   "metadata": {},
   "source": [
    "# Multi Words Variable Names\n",
    "\n",
    "Variable names with more than one word can be difficult to read.\n",
    "\n",
    "There are several techniques you can use to make them more readable:"
   ]
  },
  {
   "cell_type": "markdown",
   "id": "4eb94c16-5d08-45ca-954c-f8d167b32602",
   "metadata": {},
   "source": [
    "Camel Case\n",
    "\n",
    "Each word, except the first, starts with a capital letter"
   ]
  },
  {
   "cell_type": "code",
   "execution_count": 12,
   "id": "bafcb2b5-5b97-4d96-8c34-5fe37c49b7ce",
   "metadata": {},
   "outputs": [
    {
     "name": "stdout",
     "output_type": "stream",
     "text": [
      "Malik\n"
     ]
    }
   ],
   "source": [
    "myVariableName = \"Malik\"\n",
    "print(myVariableName)"
   ]
  },
  {
   "cell_type": "markdown",
   "id": "2185d70b-09cc-417d-a608-c46e9fcf2348",
   "metadata": {},
   "source": [
    "Pascal Case\n",
    "\n",
    "Each word starts with a capital letter"
   ]
  },
  {
   "cell_type": "code",
   "execution_count": 13,
   "id": "d617ab78-c8c7-4eff-94ce-d20e9e14bcdb",
   "metadata": {},
   "outputs": [
    {
     "name": "stdout",
     "output_type": "stream",
     "text": [
      "Malik\n"
     ]
    }
   ],
   "source": [
    "MyVariableName = \"Malik\"\n",
    "print(myVariableName)"
   ]
  },
  {
   "cell_type": "markdown",
   "id": "4d86d9a9-e9fa-4d85-a4d6-2e586acad9ea",
   "metadata": {},
   "source": [
    "Snake Case\n",
    "\n",
    "Each word is separated by an underscore character"
   ]
  },
  {
   "cell_type": "code",
   "execution_count": 14,
   "id": "5cc504c8-7e5f-407e-ae86-207750985234",
   "metadata": {},
   "outputs": [
    {
     "name": "stdout",
     "output_type": "stream",
     "text": [
      "Malik\n"
     ]
    }
   ],
   "source": [
    "my_variable_name = \"Malik\"\n",
    "print(myVariableName)"
   ]
  },
  {
   "cell_type": "markdown",
   "id": "d6aa959f-d4f3-41f1-84c8-1a4e07f23906",
   "metadata": {},
   "source": [
    "# Many Values to Multiple Variables\n",
    "\n",
    "Python allows you to assign values to multiple variables in one line"
   ]
  },
  {
   "cell_type": "code",
   "execution_count": 15,
   "id": "c1da84bf-38c1-4829-9193-5546bcd138c6",
   "metadata": {},
   "outputs": [
    {
     "name": "stdout",
     "output_type": "stream",
     "text": [
      "Orange\n",
      "Banana\n",
      "Cherry\n"
     ]
    }
   ],
   "source": [
    "x, y, z = \"Orange\", \"Banana\", \"Cherry\"\n",
    "\n",
    "print(x)\n",
    "print(y)\n",
    "print(z)"
   ]
  },
  {
   "cell_type": "markdown",
   "id": "53e7ff90-1d7b-4037-9f98-2dc83a053f21",
   "metadata": {},
   "source": [
    "# One Value to Multiple Variables\n",
    "\n",
    "And you can assign the same value to multiple variables in one line"
   ]
  },
  {
   "cell_type": "code",
   "execution_count": 16,
   "id": "37dc534b-2551-4462-bf3e-af743b3c0c49",
   "metadata": {},
   "outputs": [
    {
     "name": "stdout",
     "output_type": "stream",
     "text": [
      "Orange\n",
      "Orange\n",
      "Orange\n"
     ]
    }
   ],
   "source": [
    "x = y = z = \"Orange\"\n",
    "print(x)\n",
    "print(y)\n",
    "print(z)"
   ]
  },
  {
   "cell_type": "markdown",
   "id": "6ade2eb6-de53-40ac-9e36-0effae4ef4bd",
   "metadata": {},
   "source": [
    "# Unpack a Collection\n",
    "\n",
    "If you have a collection of values in a list, tuple etc. Python allows you to extract the values into variables. This is called unpacking."
   ]
  },
  {
   "cell_type": "code",
   "execution_count": 17,
   "id": "f6c42c50-b111-46b1-a770-acc660bc6d35",
   "metadata": {},
   "outputs": [
    {
     "name": "stdout",
     "output_type": "stream",
     "text": [
      "apple\n",
      "banana\n",
      "cherry\n"
     ]
    }
   ],
   "source": [
    "# Unpacking Lists\n",
    "fruits = [\"apple\", \"banana\", \"cherry\"]\n",
    "x, y, z = fruits\n",
    "print(x)\n",
    "print(y)\n",
    "print(z)"
   ]
  },
  {
   "cell_type": "code",
   "execution_count": 18,
   "id": "f764750f-4bf2-4983-8ef7-c3d746427e14",
   "metadata": {},
   "outputs": [
    {
     "name": "stdout",
     "output_type": "stream",
     "text": [
      "apple\n",
      "banana\n",
      "cherry\n"
     ]
    }
   ],
   "source": [
    "# Unpacking tuples\n",
    "fruits = (\"apple\", \"banana\", \"cherry\")\n",
    "\n",
    "(green, yellow, red) = fruits\n",
    "\n",
    "print(green)\n",
    "print(yellow)\n",
    "print(red)"
   ]
  },
  {
   "cell_type": "markdown",
   "id": "1a5a62c6-e57c-42bc-b828-8533059fa5b8",
   "metadata": {},
   "source": [
    "# Output Variables\n",
    "\n",
    "The Python print() function is often used to output variables."
   ]
  },
  {
   "cell_type": "code",
   "execution_count": 19,
   "id": "bda2e848-d57d-4e82-a23d-45c2a1c7b260",
   "metadata": {},
   "outputs": [
    {
     "name": "stdout",
     "output_type": "stream",
     "text": [
      "Python is awesome\n"
     ]
    }
   ],
   "source": [
    "x = \"Python is awesome\"\n",
    "print(x)"
   ]
  },
  {
   "cell_type": "markdown",
   "id": "f253501e-f566-42ab-b906-6306437221de",
   "metadata": {},
   "source": [
    "\n",
    "In the print() function, you output multiple variables, separated by a comma"
   ]
  },
  {
   "cell_type": "code",
   "execution_count": 20,
   "id": "f810752e-535c-459f-ba1f-4c05578814d4",
   "metadata": {},
   "outputs": [
    {
     "name": "stdout",
     "output_type": "stream",
     "text": [
      "Python is awesome\n"
     ]
    }
   ],
   "source": [
    "x = \"Python\"\n",
    "y = \"is\"\n",
    "z = \"awesome\"\n",
    "print(x, y, z)"
   ]
  },
  {
   "cell_type": "markdown",
   "id": "dd3efcbb-b1a3-417c-a813-de791e967b5d",
   "metadata": {},
   "source": [
    "\n",
    "\n",
    "For numbers, the + character works as a mathematical operator"
   ]
  },
  {
   "cell_type": "code",
   "execution_count": 21,
   "id": "3c3757f3-c0cb-4a45-a824-6b57f9a27784",
   "metadata": {},
   "outputs": [
    {
     "name": "stdout",
     "output_type": "stream",
     "text": [
      "15\n"
     ]
    }
   ],
   "source": [
    "x = 5\n",
    "y = 10\n",
    "print(x + y)"
   ]
  },
  {
   "cell_type": "markdown",
   "id": "768a28d5-f5f7-4d1d-91d2-3cb27e670c73",
   "metadata": {},
   "source": [
    "In the print() function, when you try to combine a string and a number with the + operator, Python will give you an error"
   ]
  },
  {
   "cell_type": "code",
   "execution_count": 22,
   "id": "0a33ed8b-99c0-4237-95dd-374cb69e7c5a",
   "metadata": {},
   "outputs": [
    {
     "ename": "TypeError",
     "evalue": "unsupported operand type(s) for +: 'int' and 'str'",
     "output_type": "error",
     "traceback": [
      "\u001b[1;31m---------------------------------------------------------------------------\u001b[0m",
      "\u001b[1;31mTypeError\u001b[0m                                 Traceback (most recent call last)",
      "Cell \u001b[1;32mIn[22], line 3\u001b[0m\n\u001b[0;32m      1\u001b[0m x \u001b[38;5;241m=\u001b[39m \u001b[38;5;241m5\u001b[39m\n\u001b[0;32m      2\u001b[0m y \u001b[38;5;241m=\u001b[39m \u001b[38;5;124m\"\u001b[39m\u001b[38;5;124mAmed\u001b[39m\u001b[38;5;124m\"\u001b[39m\n\u001b[1;32m----> 3\u001b[0m \u001b[38;5;28mprint\u001b[39m(x \u001b[38;5;241m+\u001b[39m y)\n",
      "\u001b[1;31mTypeError\u001b[0m: unsupported operand type(s) for +: 'int' and 'str'"
     ]
    }
   ],
   "source": [
    "x = 5\n",
    "y = \"Amed\"\n",
    "print(x + y)"
   ]
  },
  {
   "cell_type": "markdown",
   "id": "ff09cd50-475d-4750-b5fe-ccc3dc202acf",
   "metadata": {},
   "source": [
    "The best way to output multiple variables in the print() function is to separate them with commas, which even support different data types"
   ]
  },
  {
   "cell_type": "code",
   "execution_count": 23,
   "id": "801a3751-d7d7-40d1-be95-0dd84caad473",
   "metadata": {},
   "outputs": [
    {
     "name": "stdout",
     "output_type": "stream",
     "text": [
      "5 Malik\n"
     ]
    }
   ],
   "source": [
    "x = 5\n",
    "y = \"Malik\"\n",
    "print(x, y)"
   ]
  },
  {
   "cell_type": "markdown",
   "id": "68d5b620-b5ea-404d-9853-21683931f5a9",
   "metadata": {},
   "source": [
    "# Global Variables\n",
    "\n",
    "Variables that are created outside of a function are known as global variables.\n",
    "\n",
    "Global variables can be used by everyone, both inside of functions and outside"
   ]
  },
  {
   "cell_type": "code",
   "execution_count": 25,
   "id": "552151d9-ed2a-4637-9666-1794546f0efb",
   "metadata": {},
   "outputs": [
    {
     "name": "stdout",
     "output_type": "stream",
     "text": [
      "Python is awesom\n"
     ]
    }
   ],
   "source": [
    "# Create a variable outside of a function, and use it inside the function\n",
    "x=\"awesom\"\n",
    "def myfunc():\n",
    "    print(\"Python is\", x)\n",
    "    \n",
    "myfunc()"
   ]
  },
  {
   "cell_type": "code",
   "execution_count": 31,
   "id": "29cb39b7-4cc5-42a0-a703-44b4277eaca4",
   "metadata": {},
   "outputs": [
    {
     "name": "stdout",
     "output_type": "stream",
     "text": [
      "Python is fantastic\n",
      "Python is awesome\n"
     ]
    }
   ],
   "source": [
    "# Create a variable inside a function, with the same name as the global variable\n",
    "x = \"awesome\"\n",
    "\n",
    "def myfunc():\n",
    "  x = \"fantastic\"\n",
    "  print(\"Python is \" + x)\n",
    "\n",
    "myfunc()\n",
    "\n",
    "print(\"Python is \" + x) "
   ]
  },
  {
   "cell_type": "markdown",
   "id": "1544357e-f931-4dc0-afd3-b721aa263dfd",
   "metadata": {},
   "source": [
    "# The global Keyword\n",
    "\n",
    "Normally, when you create a variable inside a function, that variable is local, and can only be used inside that function.\n",
    "\n",
    "To create a global variable inside a function, you can use the global keyword"
   ]
  },
  {
   "cell_type": "code",
   "execution_count": 32,
   "id": "5308e3f2-9bf7-469d-82dc-b0c67e2a6aae",
   "metadata": {},
   "outputs": [
    {
     "name": "stdout",
     "output_type": "stream",
     "text": [
      "Python is fantastic\n"
     ]
    }
   ],
   "source": [
    "# If you use the global keyword, the variable belongs to the global scope\n",
    "def myfunc():\n",
    "  global x\n",
    "  x = \"fantastic\"\n",
    "\n",
    "myfunc()\n",
    "\n",
    "print(\"Python is \" + x) "
   ]
  },
  {
   "cell_type": "code",
   "execution_count": 33,
   "id": "ab231b33-0041-49e6-b717-050423a2dc8e",
   "metadata": {},
   "outputs": [
    {
     "name": "stdout",
     "output_type": "stream",
     "text": [
      "Python is fantastic\n"
     ]
    }
   ],
   "source": [
    "# To change the value of a global variable inside a function, refer to the variable by using the global keyword\n",
    "x = \"awesome\"\n",
    "\n",
    "def myfunc():\n",
    "  global x\n",
    "  x = \"fantastic\"\n",
    "\n",
    "myfunc()\n",
    "\n",
    "print(\"Python is \" + x) "
   ]
  },
  {
   "cell_type": "code",
   "execution_count": null,
   "id": "e3712907-17ff-466a-8c2e-48797885dade",
   "metadata": {},
   "outputs": [],
   "source": []
  }
 ],
 "metadata": {
  "kernelspec": {
   "display_name": "Python 3 (ipykernel)",
   "language": "python",
   "name": "python3"
  },
  "language_info": {
   "codemirror_mode": {
    "name": "ipython",
    "version": 3
   },
   "file_extension": ".py",
   "mimetype": "text/x-python",
   "name": "python",
   "nbconvert_exporter": "python",
   "pygments_lexer": "ipython3",
   "version": "3.12.4"
  }
 },
 "nbformat": 4,
 "nbformat_minor": 5
}
