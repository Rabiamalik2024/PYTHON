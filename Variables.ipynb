{
 "cells": [
  {
   "cell_type": "markdown",
   "id": "f409dc7f-94d8-486c-89e8-136d47e21099",
   "metadata": {},
   "source": [
    "# Variables\n",
    "\n",
    "Variables are containers for storing data values."
   ]
  },
  {
   "cell_type": "markdown",
   "id": "78b035a7-f9d6-4411-ba0c-363b2d931cc4",
   "metadata": {},
   "source": [
    "# Creating Variables\n",
    "\n",
    "Python has no command for declaring a variable.\n",
    "\n",
    "A variable is created the moment you first assign a value to it."
   ]
  },
  {
   "cell_type": "code",
   "execution_count": 1,
   "id": "1c44fca6-3605-431e-94b3-81285aef5d95",
   "metadata": {},
   "outputs": [
    {
     "name": "stdout",
     "output_type": "stream",
     "text": [
      "5\n",
      "Arham\n"
     ]
    }
   ],
   "source": [
    "x = 5\n",
    "y = \"Arham\"\n",
    "print(x)\n",
    "print(y)"
   ]
  },
  {
   "cell_type": "markdown",
   "id": "1a27f868-793d-4c56-b912-02aee95f4a39",
   "metadata": {},
   "source": [
    "Variables do not need to be declared with any particular type, and can even change type after they have been set."
   ]
  },
  {
   "cell_type": "code",
   "execution_count": 2,
   "id": "5d7506f4-e130-4f99-88c3-0c23f6740a81",
   "metadata": {},
   "outputs": [
    {
     "name": "stdout",
     "output_type": "stream",
     "text": [
      "Ibrahim\n"
     ]
    }
   ],
   "source": [
    "x = 4       # x is of type int\n",
    "x = \"Ibrahim\" # x is now of type str\n",
    "print(x)"
   ]
  },
  {
   "cell_type": "markdown",
   "id": "9665f26c-7800-47a3-b322-e61e0fd888c1",
   "metadata": {},
   "source": [
    "# Casting\n",
    "\n",
    "If you want to specify the data type of a variable, this can be done with casting."
   ]
  },
  {
   "cell_type": "code",
   "execution_count": 4,
   "id": "9576e419-bc25-4c62-95d8-61de4c010f65",
   "metadata": {},
   "outputs": [
    {
     "name": "stdout",
     "output_type": "stream",
     "text": [
      "6\n",
      "5\n",
      "4.0\n"
     ]
    }
   ],
   "source": [
    "x=str(6)\n",
    "y=int(5)\n",
    "z=float(4)\n",
    "print(x)\n",
    "print(y)\n",
    "print(z)"
   ]
  },
  {
   "cell_type": "markdown",
   "id": "6368f016-c117-4d2a-8f2c-ceb962805a62",
   "metadata": {},
   "source": [
    "# Get the Type\n",
    "\n",
    "You can get the data type of a variable with the type() function."
   ]
  },
  {
   "cell_type": "code",
   "execution_count": 5,
   "id": "173da593-5b4f-49ad-a61e-56fdee151c17",
   "metadata": {},
   "outputs": [
    {
     "name": "stdout",
     "output_type": "stream",
     "text": [
      "<class 'int'>\n",
      "<class 'float'>\n",
      "<class 'str'>\n"
     ]
    }
   ],
   "source": [
    "a=7\n",
    "b=6.8\n",
    "c=\"ahmed\"\n",
    "d=True\n",
    "print(type(a))\n",
    "print(type(b))\n",
    "print(type(c))"
   ]
  },
  {
   "cell_type": "markdown",
   "id": "67582127-d3c7-4dff-b4cc-1edc2407656f",
   "metadata": {},
   "source": [
    "# Single or Double Quotes?\n",
    "\n",
    "String variables can be declared either by using single or double quotes"
   ]
  },
  {
   "cell_type": "code",
   "execution_count": 6,
   "id": "0cc34dcc-2de9-4b6a-b0b8-d6f48cdf6f48",
   "metadata": {},
   "outputs": [
    {
     "name": "stdout",
     "output_type": "stream",
     "text": [
      "Malik\n",
      "Malik\n"
     ]
    }
   ],
   "source": [
    "x = \"Malik\"\n",
    "print(x)\n",
    "#double quotes are the same as single quotes:\n",
    "x = 'Malik'\n",
    "print(x)"
   ]
  },
  {
   "cell_type": "markdown",
   "id": "2ea5f457-a6da-48e4-99d1-963011149f3e",
   "metadata": {},
   "source": [
    "# Case-Sensitive\n",
    "\n",
    "Variable names are case-sensitive."
   ]
  },
  {
   "cell_type": "code",
   "execution_count": 7,
   "id": "7a518bd8-1283-4ef2-bd79-55df3359f127",
   "metadata": {},
   "outputs": [
    {
     "name": "stdout",
     "output_type": "stream",
     "text": [
      "10\n",
      "Ahmed\n"
     ]
    }
   ],
   "source": [
    "a = 10\n",
    "A = \"Ahmed\"\n",
    "\n",
    "print(a)\n",
    "print(A)"
   ]
  },
  {
   "cell_type": "markdown",
   "id": "a160b2ea-f054-497c-bc95-7a7a0af337a6",
   "metadata": {},
   "source": [
    "# Variable Names\n",
    "A variable can have a short name (like x and y) or a more descriptive name (age, carname, total_volume). Rules for Python variables:\n",
    "\n",
    "    A variable name must start with a letter or the underscore character\n",
    "    A variable name cannot start with a number\n",
    "    A variable name can only contain alpha-numeric characters and underscores (A-z, 0-9, and _ )\n",
    "    Variable names are case-sensitive (age, Age and AGE are three different variables)\n",
    "    A variable name cannot be any of the Python keywords.\n"
   ]
  },
  {
   "cell_type": "code",
   "execution_count": 8,
   "id": "ed8269e8-0f28-49c0-83a2-4a591a0ce766",
   "metadata": {},
   "outputs": [
    {
     "name": "stdout",
     "output_type": "stream",
     "text": [
      "Malik\n",
      "Malik\n",
      "Malik\n",
      "Malik\n",
      "Malik\n",
      "Malik\n"
     ]
    }
   ],
   "source": [
    "myvar = \"Malik\"\n",
    "my_var = \"Malik\"\n",
    "_my_var = \"Malik\"\n",
    "myVar = \"Malik\"\n",
    "MYVAR = \"Malik\"\n",
    "myvar2 = \"Malik\"\n",
    "\n",
    "\n",
    "print(myvar)\n",
    "print(my_var)\n",
    "print(_my_var)\n",
    "print(myVar)\n",
    "print(MYVAR)\n",
    "print(myvar2)"
   ]
  },
  {
   "cell_type": "markdown",
   "id": "13ee8958-7c66-4cbf-bd33-e3f37825112b",
   "metadata": {},
   "source": [
    "# Multi Words Variable Names\n",
    "\n",
    "Variable names with more than one word can be difficult to read.\n",
    "\n",
    "There are several techniques you can use to make them more readable:"
   ]
  },
  {
   "cell_type": "markdown",
   "id": "4eb94c16-5d08-45ca-954c-f8d167b32602",
   "metadata": {},
   "source": [
    "Camel Case\n",
    "\n",
    "Each word, except the first, starts with a capital letter"
   ]
  },
  {
   "cell_type": "code",
   "execution_count": 12,
   "id": "bafcb2b5-5b97-4d96-8c34-5fe37c49b7ce",
   "metadata": {},
   "outputs": [
    {
     "name": "stdout",
     "output_type": "stream",
     "text": [
      "Malik\n"
     ]
    }
   ],
   "source": [
    "myVariableName = \"Malik\"\n",
    "print(myVariableName)"
   ]
  },
  {
   "cell_type": "markdown",
   "id": "2185d70b-09cc-417d-a608-c46e9fcf2348",
   "metadata": {},
   "source": [
    "Pascal Case\n",
    "\n",
    "Each word starts with a capital letter"
   ]
  },
  {
   "cell_type": "code",
   "execution_count": 13,
   "id": "d617ab78-c8c7-4eff-94ce-d20e9e14bcdb",
   "metadata": {},
   "outputs": [
    {
     "name": "stdout",
     "output_type": "stream",
     "text": [
      "Malik\n"
     ]
    }
   ],
   "source": [
    "MyVariableName = \"Malik\"\n",
    "print(myVariableName)"
   ]
  },
  {
   "cell_type": "markdown",
   "id": "4d86d9a9-e9fa-4d85-a4d6-2e586acad9ea",
   "metadata": {},
   "source": [
    "Snake Case\n",
    "\n",
    "Each word is separated by an underscore character"
   ]
  },
  {
   "cell_type": "code",
   "execution_count": null,
   "id": "5cc504c8-7e5f-407e-ae86-207750985234",
   "metadata": {},
   "outputs": [],
   "source": [
    "my_variable_name = \"Malik\"\n",
    "print(myVariableName)"
   ]
  }
 ],
 "metadata": {
  "kernelspec": {
   "display_name": "Python 3 (ipykernel)",
   "language": "python",
   "name": "python3"
  },
  "language_info": {
   "codemirror_mode": {
    "name": "ipython",
    "version": 3
   },
   "file_extension": ".py",
   "mimetype": "text/x-python",
   "name": "python",
   "nbconvert_exporter": "python",
   "pygments_lexer": "ipython3",
   "version": "3.12.4"
  }
 },
 "nbformat": 4,
 "nbformat_minor": 5
}
